{
 "cells": [
  {
   "cell_type": "code",
   "execution_count": 1,
   "id": "6cc9953a-01c4-42da-9dc6-2ac3eb85b850",
   "metadata": {},
   "outputs": [],
   "source": [
    "import pandas as pd\n",
    "import numpy as np"
   ]
  },
  {
   "cell_type": "code",
   "execution_count": 2,
   "id": "ce71e96a-e75b-4a31-a0e7-991ab0c2295d",
   "metadata": {},
   "outputs": [],
   "source": [
    "#laod the iris dataset\n",
    "data = pd.read_csv('HCV-Egy-Data.csv')\n",
    "#X = data.drop(['Baselinehistological staging', 'RNA Base', 'RNA 4', 'RNA 12', 'RNA EOT', 'RNA EF'], axis=1)\n",
    "X = data.drop(['Baselinehistological staging'], axis=1)\n",
    "y = data['Baselinehistological staging']"
   ]
  },
  {
   "cell_type": "code",
   "execution_count": 3,
   "id": "1cdf6477-28f6-45f2-879c-c8174c40cc56",
   "metadata": {},
   "outputs": [],
   "source": [
    "from sklearn.model_selection import StratifiedKFold"
   ]
  },
  {
   "cell_type": "code",
   "execution_count": 4,
   "id": "8e776ff4-ada5-492f-b264-c6777ad3c041",
   "metadata": {},
   "outputs": [],
   "source": [
    "#initialize k-fold cross-validation\n",
    "k = 5\n",
    "skf = StratifiedKFold(n_splits=k, shuffle=True, random_state=42)"
   ]
  },
  {
   "cell_type": "code",
   "execution_count": 5,
   "id": "2f8be284-e725-408c-8a30-6da2ab0004fa",
   "metadata": {},
   "outputs": [],
   "source": [
    "from sklearn.ensemble import AdaBoostClassifier\n",
    "from sklearn.metrics import accuracy_score, precision_score, recall_score, f1_score, confusion_matrix\n",
    "\n",
    "#initialize metrics\n",
    "accuracies = []\n",
    "precisions = []\n",
    "recalls = []\n",
    "f1_scores = []\n",
    "total_conf_matrix = np.zeros((4,4), dtype=int) #zeros matrix for memory allocation for confusion matrix\n",
    "\n",
    "#preform k-fold CV\n",
    "for train_index, test_index in skf.split(X,y):\n",
    "    X_train, X_test = X.iloc[train_index], X.iloc[test_index]\n",
    "    y_train, y_test = y.iloc[train_index], y.iloc[test_index]\n",
    "\n",
    "\n",
    "    model = AdaBoostClassifier(algorithm='SAMME', random_state=42) #algorithm 'SAMME' used for multi-class classification\n",
    "    model.fit(X_train, y_train)\n",
    "    y_pred = model.predict(X_test)\n",
    "\n",
    "    #calculate metrics\n",
    "    accuracies.append(accuracy_score(y_test, y_pred))\n",
    "    precisions.append(precision_score(y_test, y_pred, average='macro'))#, zero_division=0)) --> in class notes but wont run\n",
    "    recalls.append(recall_score(y_test, y_pred, average='macro'))\n",
    "    f1_scores.append(f1_score(y_test, y_pred, average='macro'))\n",
    "\n",
    "    #update the confusion matrix\n",
    "    total_conf_matrix += confusion_matrix(y_test, y_pred)"
   ]
  },
  {
   "cell_type": "code",
   "execution_count": 6,
   "id": "219a482a-294c-47c0-aff7-4310364767ed",
   "metadata": {},
   "outputs": [
    {
     "name": "stdout",
     "output_type": "stream",
     "text": [
      "Average Accuracy: 0.24548736462093865\n",
      "Average Precision: 0.2428468002610334\n",
      "Average Recall: 0.2433150160763308\n",
      "Average F1 Score: 0.23755582724137062\n",
      "Total Confusion Matrix (summed over folds):\n",
      "[[ 61  63 113  99]\n",
      " [ 60  66  84 122]\n",
      " [ 72  72  84 127]\n",
      " [ 65  69  99 129]]\n"
     ]
    }
   ],
   "source": [
    "#display average results\n",
    "print(f\"Average Accuracy: {np.mean(accuracies)}\")\n",
    "print(f\"Average Precision: {np.mean(precisions)}\")\n",
    "print(f\"Average Recall: {np.mean(recalls)}\")\n",
    "print(f\"Average F1 Score: {np.mean(f1_scores)}\")\n",
    "print(\"Total Confusion Matrix (summed over folds):\")\n",
    "print(total_conf_matrix)"
   ]
  },
  {
   "cell_type": "code",
   "execution_count": null,
   "id": "2cd624dc-e116-4eaf-95c6-0df8254fa20e",
   "metadata": {},
   "outputs": [],
   "source": []
  }
 ],
 "metadata": {
  "kernelspec": {
   "display_name": "Python 3 (ipykernel)",
   "language": "python",
   "name": "python3"
  },
  "language_info": {
   "codemirror_mode": {
    "name": "ipython",
    "version": 3
   },
   "file_extension": ".py",
   "mimetype": "text/x-python",
   "name": "python",
   "nbconvert_exporter": "python",
   "pygments_lexer": "ipython3",
   "version": "3.12.4"
  }
 },
 "nbformat": 4,
 "nbformat_minor": 5
}
