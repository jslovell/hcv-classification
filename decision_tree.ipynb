{
 "cells": [
  {
   "cell_type": "code",
   "execution_count": 1,
   "id": "c4f4a799-9811-4015-811e-bbb6d9ff558e",
   "metadata": {},
   "outputs": [],
   "source": [
    "import pandas as pd\n",
    "import numpy as np"
   ]
  },
  {
   "cell_type": "code",
   "execution_count": 2,
   "id": "de1801c7-7344-4b4d-b529-40279bf3b0a4",
   "metadata": {},
   "outputs": [],
   "source": [
    "# Read data\n",
    "data = pd.read_csv('data/HCV-Egy-Data.csv')"
   ]
  },
  {
   "cell_type": "code",
   "execution_count": 3,
   "id": "0ec24158-a381-4301-bb88-547583c9c3ab",
   "metadata": {},
   "outputs": [
    {
     "name": "stdout",
     "output_type": "stream",
     "text": [
      "Number of numerical features 29\n",
      "Number of categorical features 0\n",
      "Index([], dtype='object')\n"
     ]
    }
   ],
   "source": [
    "# Number of numerical and categorical features\n",
    "print(\"Number of numerical features\", len(data.select_dtypes(exclude='object').columns))\n",
    "cat_features = data.select_dtypes(include='object').columns\n",
    "print(\"Number of categorical features\", len(cat_features))\n",
    "print(cat_features)"
   ]
  },
  {
   "cell_type": "code",
   "execution_count": 4,
   "id": "e058df7c-d1ba-4775-ab87-83d35c2da10b",
   "metadata": {},
   "outputs": [
    {
     "data": {
      "text/plain": [
       "Index(['Age ', 'Gender', 'BMI', 'Fever', 'Nausea/Vomting', 'Headache ',\n",
       "       'Diarrhea ', 'Fatigue & generalized bone ache ', 'Jaundice ',\n",
       "       'Epigastric pain ', 'WBC', 'RBC', 'HGB', 'Plat', 'AST 1', 'ALT 1',\n",
       "       'ALT4', 'ALT 12', 'ALT 24', 'ALT 36', 'ALT 48', 'ALT after 24 w',\n",
       "       'RNA Base', 'RNA 4', 'RNA 12', 'RNA EOT', 'RNA EF',\n",
       "       'Baseline histological Grading', 'Baselinehistological staging'],\n",
       "      dtype='object')"
      ]
     },
     "execution_count": 4,
     "metadata": {},
     "output_type": "execute_result"
    }
   ],
   "source": [
    "data.columns"
   ]
  },
  {
   "cell_type": "code",
   "execution_count": 5,
   "id": "a3dcd903-3135-4570-af3a-c607e4edb2ab",
   "metadata": {},
   "outputs": [],
   "source": [
    "# Separate features\n",
    "X = data.drop(['Baselinehistological staging'], axis=1)\n",
    "y = data['Baselinehistological staging']"
   ]
  },
  {
   "cell_type": "code",
   "execution_count": 6,
   "id": "455dae82-d5a8-4315-a3f3-c780a3905910",
   "metadata": {},
   "outputs": [
    {
     "data": {
      "text/plain": [
       "Baselinehistological staging\n",
       "4    362\n",
       "3    355\n",
       "1    336\n",
       "2    332\n",
       "Name: count, dtype: int64"
      ]
     },
     "execution_count": 6,
     "metadata": {},
     "output_type": "execute_result"
    }
   ],
   "source": [
    "# Check distribution of target classes\n",
    "y.value_counts()"
   ]
  },
  {
   "cell_type": "code",
   "execution_count": 7,
   "id": "80c2d6ea-21a2-40a6-86c7-7c71977e8185",
   "metadata": {},
   "outputs": [],
   "source": [
    "# Initialize decision tree classifier\n",
    "from sklearn.tree import DecisionTreeClassifier\n",
    "clf = DecisionTreeClassifier()"
   ]
  },
  {
   "cell_type": "code",
   "execution_count": 8,
   "id": "3756f81a-1ed2-4eca-ba0f-800f4d622ed1",
   "metadata": {},
   "outputs": [],
   "source": [
    "# Perform k-fold cross-validation\n",
    "from sklearn.model_selection import cross_val_score, cross_val_predict, KFold\n",
    "kf = KFold(n_splits=5, shuffle=True, random_state=42)\n",
    "y_pred_cv = cross_val_predict(clf, X, y, cv=kf)"
   ]
  },
  {
   "cell_type": "code",
   "execution_count": 9,
   "id": "e7eac45e-e7f4-47bb-a3ec-8eac58aeed1e",
   "metadata": {},
   "outputs": [],
   "source": [
    "# Compute evaluation metrics\n",
    "from sklearn.metrics import accuracy_score, precision_score, recall_score, f1_score, confusion_matrix\n",
    "accuracy = cross_val_score(clf, X, y, cv=kf, scoring='accuracy')\n",
    "precision = cross_val_score(clf, X, y, cv=kf, scoring='precision_macro')\n",
    "recall = cross_val_score(clf, X, y, cv=kf, scoring='recall_macro')\n",
    "f1 = cross_val_score(clf, X, y, cv=kf, scoring='f1_macro')"
   ]
  },
  {
   "cell_type": "code",
   "execution_count": 10,
   "id": "2b67a800-23dc-4ab8-989d-00aa00a68de3",
   "metadata": {},
   "outputs": [],
   "source": [
    "# Compute confusion matrix\n",
    "conf_matrix = confusion_matrix(y, y_pred_cv)"
   ]
  },
  {
   "cell_type": "code",
   "execution_count": 11,
   "id": "4fddaa09-0b97-44b8-a63c-93ed1f80e99c",
   "metadata": {},
   "outputs": [
    {
     "name": "stdout",
     "output_type": "stream",
     "text": [
      "Accuracy: 0.23898916967509026\n",
      "Precision: 0.2472839227777667\n",
      "Recall: 0.2399124771988844\n",
      "F1 Score: 0.23844531803848862\n",
      "Confusion Matrix:\n",
      " [[ 85  73 102  76]\n",
      " [ 77  91  81  83]\n",
      " [ 82  90  85  98]\n",
      " [ 99 105  88  70]]\n"
     ]
    }
   ],
   "source": [
    "# Print evaluation metrics\n",
    "print(\"Accuracy:\", accuracy.mean())\n",
    "print(\"Precision:\", precision.mean())\n",
    "print(\"Recall:\", recall.mean())\n",
    "print(\"F1 Score:\", f1.mean())\n",
    "print(\"Confusion Matrix:\\n\", conf_matrix)"
   ]
  },
  {
   "cell_type": "code",
   "execution_count": null,
   "id": "b20d5064-7758-430f-8b7a-e306137d3da3",
   "metadata": {},
   "outputs": [],
   "source": []
  }
 ],
 "metadata": {
  "kernelspec": {
   "display_name": "Python 3 (ipykernel)",
   "language": "python",
   "name": "python3"
  },
  "language_info": {
   "codemirror_mode": {
    "name": "ipython",
    "version": 3
   },
   "file_extension": ".py",
   "mimetype": "text/x-python",
   "name": "python",
   "nbconvert_exporter": "python",
   "pygments_lexer": "ipython3",
   "version": "3.12.2"
  }
 },
 "nbformat": 4,
 "nbformat_minor": 5
}
